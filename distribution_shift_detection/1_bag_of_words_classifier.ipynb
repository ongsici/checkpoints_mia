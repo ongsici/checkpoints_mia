{
 "cells": [
  {
   "cell_type": "code",
   "execution_count": 1,
   "id": "eb52e4ac",
   "metadata": {},
   "outputs": [],
   "source": [
    "import numpy as np\n",
    "import pandas as pd\n",
    "import pickle\n",
    "from sklearn.ensemble import RandomForestClassifier\n",
    "from sklearn.feature_extraction.text import CountVectorizer\n",
    "from sklearn.model_selection import StratifiedShuffleSplit\n",
    "from sklearn.metrics import accuracy_score, roc_auc_score"
   ]
  },
  {
   "cell_type": "markdown",
   "id": "a4d03d5f",
   "metadata": {},
   "source": [
    "## Pile-RS-Truncated"
   ]
  },
  {
   "cell_type": "code",
   "execution_count": 9,
   "id": "eb3ae4c3",
   "metadata": {},
   "outputs": [],
   "source": [
    "seq_lens = [64, 128, 256, 512, 1024, 2048]\n",
    "base_path = \"../data/pile/pile_rs_truncated\""
   ]
  },
  {
   "cell_type": "code",
   "execution_count": 2,
   "id": "68441f81",
   "metadata": {},
   "outputs": [],
   "source": [
    "def evaluate_bow_shift(df, n_runs=5):\n",
    "    texts = df['truncated_text'].values\n",
    "    labels = df['label'].values\n",
    "    aucs = []\n",
    "\n",
    "    sss = StratifiedShuffleSplit(n_splits=n_runs, test_size=0.2, random_state=42)\n",
    "\n",
    "    for train_idx, test_idx in sss.split(texts, labels):\n",
    "        X_train_texts, X_test_texts = texts[train_idx], texts[test_idx]\n",
    "        y_train, y_test = labels[train_idx], labels[test_idx]\n",
    "\n",
    "        # BoW vectorizer: keep 1-grams in ≥5% of training sequences\n",
    "        vectorizer = CountVectorizer(ngram_range=(1, 1), min_df=0.05)\n",
    "        X_train = vectorizer.fit_transform(X_train_texts)\n",
    "        X_test = vectorizer.transform(X_test_texts)\n",
    "\n",
    "        clf = RandomForestClassifier(\n",
    "            n_estimators=500,\n",
    "            max_depth=2,\n",
    "            min_samples_leaf=10,\n",
    "            random_state=42\n",
    "        )\n",
    "        clf.fit(X_train, y_train)\n",
    "        # y_pred = clf.predict(X_test)\n",
    "\n",
    "        # acc = accuracy_score(y_test, y_pred)\n",
    "        # accs.append(acc)\n",
    "        y_scores = clf.predict_proba(X_test)[:, 1]\n",
    "        auc = roc_auc_score(y_test, y_scores)\n",
    "        aucs.append(auc)\n",
    "\n",
    "    mean_auc = np.mean(aucs)\n",
    "    std_auc = np.std(aucs)\n",
    "    print(f\"Average AUC over {n_runs} runs: {mean_auc:.4f} ± {std_auc:.4f}\")\n",
    "    return aucs"
   ]
  },
  {
   "cell_type": "markdown",
   "id": "12ac60ce",
   "metadata": {},
   "source": [
    "### Wikipedia"
   ]
  },
  {
   "cell_type": "code",
   "execution_count": null,
   "id": "75505f2f",
   "metadata": {},
   "outputs": [
    {
     "name": "stdout",
     "output_type": "stream",
     "text": [
      "=====================\n",
      "seq_len = 64\n",
      "Average AUC over 5 runs: 0.5011 ± 0.0213\n",
      "Accuracy for seqlen 64: [np.float64(0.512575), np.float64(0.46648750000000005), np.float64(0.487525), np.float64(0.5257375), np.float64(0.513075)]\n",
      "\n",
      "=====================\n",
      "seq_len = 128\n",
      "Average AUC over 5 runs: 0.4992 ± 0.0192\n",
      "Accuracy for seqlen 128: [np.float64(0.5222249999999999), np.float64(0.47157499999999997), np.float64(0.496225), np.float64(0.51915), np.float64(0.48692500000000005)]\n",
      "\n",
      "=====================\n",
      "seq_len = 256\n",
      "Average AUC over 5 runs: 0.5472 ± 0.0252\n",
      "Accuracy for seqlen 256: [np.float64(0.5465), np.float64(0.5254249999999999), np.float64(0.51815), np.float64(0.55665), np.float64(0.5892999999999999)]\n",
      "\n",
      "=====================\n",
      "seq_len = 512\n",
      "Average AUC over 5 runs: 0.4917 ± 0.0265\n",
      "Accuracy for seqlen 512: [np.float64(0.46072500000000005), np.float64(0.4678500000000001), np.float64(0.504575), np.float64(0.4913), np.float64(0.534275)]\n",
      "\n",
      "=====================\n",
      "seq_len = 1024\n",
      "Average AUC over 5 runs: 0.4904 ± 0.0141\n",
      "Accuracy for seqlen 1024: [np.float64(0.51095), np.float64(0.46797500000000003), np.float64(0.4852000000000001), np.float64(0.49724999999999997), np.float64(0.49055000000000004)]\n",
      "\n",
      "=====================\n",
      "seq_len = 2048\n",
      "Average AUC over 5 runs: 0.4696 ± 0.0253\n",
      "Accuracy for seqlen 2048: [np.float64(0.503825), np.float64(0.434075), np.float64(0.487275), np.float64(0.474225), np.float64(0.448525)]\n",
      "\n"
     ]
    }
   ],
   "source": [
    "wiki_data = {}\n",
    "wiki_accs = {}\n",
    "\n",
    "for seqlen in seq_lens:\n",
    "    with open(f\"{base_path}/wiki/pile_reservoirv2_wiki_seqlen{seqlen}.pkl\", \"rb\") as f:\n",
    "        wiki_data[seqlen] = pd.read_pickle(f)\n",
    "\n",
    "    print('=====================')\n",
    "    print(f'seq_len = {seqlen}')\n",
    "    wiki_accs[seqlen] = evaluate_bow_shift(wiki_data[seqlen])\n",
    "    print(f\"Accuracy for seqlen {seqlen}:\", wiki_accs[seqlen])\n",
    "    print()\n"
   ]
  },
  {
   "cell_type": "markdown",
   "id": "d2ea91c9",
   "metadata": {},
   "source": [
    "### PubMed Central"
   ]
  },
  {
   "cell_type": "code",
   "execution_count": 10,
   "id": "3a9502e1",
   "metadata": {},
   "outputs": [
    {
     "name": "stdout",
     "output_type": "stream",
     "text": [
      "=====================\n",
      "seq_len = 64\n",
      "Average AUC over 5 runs: 0.4807 ± 0.0209\n",
      "Accuracy for seqlen 64: [np.float64(0.48316250000000005), np.float64(0.4769), np.float64(0.45883749999999995), np.float64(0.51895), np.float64(0.46577500000000005)]\n",
      "\n",
      "=====================\n",
      "seq_len = 128\n",
      "Average AUC over 5 runs: 0.5053 ± 0.0164\n",
      "Accuracy for seqlen 128: [np.float64(0.5225), np.float64(0.514525), np.float64(0.474475), np.float64(0.50995), np.float64(0.5050749999999999)]\n",
      "\n",
      "=====================\n",
      "seq_len = 256\n",
      "Average AUC over 5 runs: 0.5126 ± 0.0256\n",
      "Accuracy for seqlen 256: [np.float64(0.545575), np.float64(0.50975), np.float64(0.467325), np.float64(0.5179), np.float64(0.5223249999999999)]\n",
      "\n",
      "=====================\n",
      "seq_len = 512\n",
      "Average AUC over 5 runs: 0.5130 ± 0.0227\n",
      "Accuracy for seqlen 512: [np.float64(0.5486499999999999), np.float64(0.4955), np.float64(0.498375), np.float64(0.49151249999999996), np.float64(0.5308)]\n",
      "\n",
      "=====================\n",
      "seq_len = 1024\n",
      "Average AUC over 5 runs: 0.5043 ± 0.0286\n",
      "Accuracy for seqlen 1024: [np.float64(0.50925), np.float64(0.505225), np.float64(0.501725), np.float64(0.45762500000000006), np.float64(0.547725)]\n",
      "\n",
      "=====================\n",
      "seq_len = 2048\n",
      "Average AUC over 5 runs: 0.4877 ± 0.0278\n",
      "Accuracy for seqlen 2048: [np.float64(0.46485), np.float64(0.468125), np.float64(0.49565000000000003), np.float64(0.4709749999999999), np.float64(0.5387500000000001)]\n",
      "\n"
     ]
    }
   ],
   "source": [
    "pubmedc_data = {}\n",
    "pubmedc_accs = {}\n",
    "\n",
    "for seqlen in seq_lens:\n",
    "    with open(f\"{base_path}/pubmedc/pile_reservoirv2_pubmedc_seqlen{seqlen}.pkl\", \"rb\") as f:\n",
    "        pubmedc_data[seqlen] = pd.read_pickle(f)\n",
    "\n",
    "    print('=====================')\n",
    "    print(f'seq_len = {seqlen}')\n",
    "    pubmedc_accs[seqlen] = evaluate_bow_shift(pubmedc_data[seqlen])\n",
    "    print(f\"Accuracy for seqlen {seqlen}:\", pubmedc_accs[seqlen])\n",
    "    print()"
   ]
  },
  {
   "cell_type": "markdown",
   "id": "9343d977",
   "metadata": {},
   "source": [
    "### USPTO"
   ]
  },
  {
   "cell_type": "code",
   "execution_count": 11,
   "id": "47f1af99",
   "metadata": {},
   "outputs": [
    {
     "name": "stdout",
     "output_type": "stream",
     "text": [
      "=====================\n",
      "seq_len = 64\n",
      "Average AUC over 5 runs: 0.4956 ± 0.0323\n",
      "Accuracy for seqlen 64: [np.float64(0.501325), np.float64(0.54805), np.float64(0.5043375), np.float64(0.45515000000000005), np.float64(0.46904999999999997)]\n",
      "\n",
      "=====================\n",
      "seq_len = 128\n",
      "Average AUC over 5 runs: 0.4803 ± 0.0192\n",
      "Accuracy for seqlen 128: [np.float64(0.48744999999999994), np.float64(0.498375), np.float64(0.4951625), np.float64(0.4454), np.float64(0.47507499999999997)]\n",
      "\n",
      "=====================\n",
      "seq_len = 256\n",
      "Average AUC over 5 runs: 0.5011 ± 0.0158\n",
      "Accuracy for seqlen 256: [np.float64(0.4716), np.float64(0.510375), np.float64(0.49806249999999996), np.float64(0.5106999999999999), np.float64(0.5146999999999999)]\n",
      "\n",
      "=====================\n",
      "seq_len = 512\n",
      "Average AUC over 5 runs: 0.5282 ± 0.0170\n",
      "Accuracy for seqlen 512: [np.float64(0.5115500000000001), np.float64(0.5583), np.float64(0.5296125), np.float64(0.51205), np.float64(0.529525)]\n",
      "\n",
      "=====================\n",
      "seq_len = 1024\n",
      "Average AUC over 5 runs: 0.5193 ± 0.0121\n",
      "Accuracy for seqlen 1024: [np.float64(0.52115), np.float64(0.513275), np.float64(0.518275), np.float64(0.540275), np.float64(0.50335)]\n",
      "\n",
      "=====================\n",
      "seq_len = 2048\n",
      "Average AUC over 5 runs: 0.5061 ± 0.0109\n",
      "Accuracy for seqlen 2048: [np.float64(0.51545), np.float64(0.504425), np.float64(0.505425), np.float64(0.487225), np.float64(0.5180750000000001)]\n",
      "\n"
     ]
    }
   ],
   "source": [
    "uspto_data = {}\n",
    "uspto_accs = {}\n",
    "\n",
    "for seqlen in seq_lens:\n",
    "    with open(f\"{base_path}/uspto/pile_reservoirv2_uspto_seqlen{seqlen}.pkl\", \"rb\") as f:\n",
    "        uspto_data[seqlen] = pd.read_pickle(f)\n",
    "\n",
    "    print('=====================')\n",
    "    print(f'seq_len = {seqlen}')\n",
    "    uspto_accs[seqlen] = evaluate_bow_shift(uspto_data[seqlen])\n",
    "    print(f\"Accuracy for seqlen {seqlen}:\", uspto_accs[seqlen])\n",
    "    print()"
   ]
  },
  {
   "cell_type": "markdown",
   "id": "1ba5f3cb",
   "metadata": {},
   "source": [
    "### Pile-CC"
   ]
  },
  {
   "cell_type": "code",
   "execution_count": null,
   "id": "97a4f585",
   "metadata": {},
   "outputs": [
    {
     "name": "stdout",
     "output_type": "stream",
     "text": [
      "=====================\n",
      "seq_len = 64\n",
      "Average AUC over 5 runs: 0.5112 ± 0.0171\n",
      "Accuracy for seqlen 64: [np.float64(0.49369999999999997), np.float64(0.5180750000000001), np.float64(0.5386375), np.float64(0.5131), np.float64(0.49242500000000006)]\n",
      "\n",
      "=====================\n",
      "seq_len = 128\n",
      "Average AUC over 5 runs: 0.5139 ± 0.0272\n",
      "Accuracy for seqlen 128: [np.float64(0.4635250000000001), np.float64(0.521725), np.float64(0.54445), np.float64(0.51325), np.float64(0.526675)]\n",
      "\n",
      "=====================\n",
      "seq_len = 256\n",
      "Average AUC over 5 runs: 0.4829 ± 0.0181\n",
      "Accuracy for seqlen 256: [np.float64(0.45714999999999995), np.float64(0.48607500000000003), np.float64(0.5093000000000001), np.float64(0.49249999999999994), np.float64(0.46952499999999997)]\n",
      "\n",
      "=====================\n",
      "seq_len = 512\n",
      "Average AUC over 5 runs: 0.4625 ± 0.0265\n",
      "Accuracy for seqlen 512: [np.float64(0.49085), np.float64(0.47330000000000005), np.float64(0.41275000000000006), np.float64(0.47364999999999996), np.float64(0.461725)]\n",
      "\n",
      "=====================\n",
      "seq_len = 1024\n",
      "Average AUC over 5 runs: 0.4864 ± 0.0147\n",
      "Accuracy for seqlen 1024: [np.float64(0.484025), np.float64(0.48929999999999996), np.float64(0.508075), np.float64(0.48855000000000004), np.float64(0.462075)]\n",
      "\n",
      "=====================\n",
      "seq_len = 2048\n",
      "Average AUC over 5 runs: 0.4752 ± 0.0205\n",
      "Accuracy for seqlen 2048: [np.float64(0.479225), np.float64(0.46375), np.float64(0.485425), np.float64(0.5041500000000001), np.float64(0.44332499999999997)]\n",
      "\n"
     ]
    }
   ],
   "source": [
    "pilecc_data = {}\n",
    "pilecc_accs = {}\n",
    "\n",
    "for seqlen in seq_lens:\n",
    "    with open(f\"{base_path}/pilecc/pile_reservoirv2_pilecc_seqlen{seqlen}.pkl\", \"rb\") as f:\n",
    "        pilecc_data[seqlen] = pd.read_pickle(f)\n",
    "\n",
    "    print('=====================')\n",
    "    print(f'seq_len = {seqlen}')\n",
    "    pilecc_accs[seqlen] = evaluate_bow_shift(pilecc_data[seqlen])\n",
    "    print(f\"Accuracy for seqlen {seqlen}:\", pilecc_accs[seqlen])\n",
    "    print()\n"
   ]
  },
  {
   "cell_type": "markdown",
   "id": "76523415",
   "metadata": {},
   "source": [
    "### Github"
   ]
  },
  {
   "cell_type": "code",
   "execution_count": null,
   "id": "e8d4004f",
   "metadata": {},
   "outputs": [
    {
     "name": "stdout",
     "output_type": "stream",
     "text": [
      "=====================\n",
      "seq_len = 64\n",
      "Average AUC over 5 runs: 0.5299 ± 0.0348\n",
      "Accuracy for seqlen 64: [np.float64(0.472), np.float64(0.5692), np.float64(0.5114500000000001), np.float64(0.5401875), np.float64(0.5568750000000001)]\n",
      "\n",
      "=====================\n",
      "seq_len = 128\n",
      "Average AUC over 5 runs: 0.5106 ± 0.0455\n",
      "Accuracy for seqlen 128: [np.float64(0.4564375), np.float64(0.5491125), np.float64(0.528175), np.float64(0.45643750000000005), np.float64(0.562625)]\n",
      "\n",
      "=====================\n",
      "seq_len = 256\n",
      "Average AUC over 5 runs: 0.4827 ± 0.0383\n",
      "Accuracy for seqlen 256: [np.float64(0.4560125), np.float64(0.5425875), np.float64(0.464575), np.float64(0.4390875), np.float64(0.5111375)]\n",
      "\n",
      "=====================\n",
      "seq_len = 512\n",
      "Average AUC over 5 runs: 0.4805 ± 0.0390\n",
      "Accuracy for seqlen 512: [np.float64(0.44196250000000004), np.float64(0.54525), np.float64(0.4649375), np.float64(0.446725), np.float64(0.503775)]\n",
      "\n",
      "=====================\n",
      "seq_len = 1024\n",
      "Average AUC over 5 runs: 0.4832 ± 0.0380\n",
      "Accuracy for seqlen 1024: [np.float64(0.4266), np.float64(0.539375), np.float64(0.4936125), np.float64(0.4594875), np.float64(0.4967125)]\n",
      "\n",
      "=====================\n",
      "seq_len = 2048\n",
      "Average AUC over 5 runs: 0.4744 ± 0.0261\n",
      "Accuracy for seqlen 2048: [np.float64(0.451225), np.float64(0.5049), np.float64(0.4974875), np.float64(0.43737500000000007), np.float64(0.48079999999999995)]\n",
      "\n"
     ]
    }
   ],
   "source": [
    "github_data = {}\n",
    "github_accs = {}\n",
    "\n",
    "for seqlen in seq_lens:\n",
    "    with open(f\"{base_path}/github/pile_reservoirv2_github_seqlen{seqlen}.pkl\", \"rb\") as f:\n",
    "        github_data[seqlen] = pd.read_pickle(f)\n",
    "\n",
    "    print('=====================')\n",
    "    print(f'seq_len = {seqlen}')\n",
    "    github_accs[seqlen] = evaluate_bow_shift(github_data[seqlen])\n",
    "    print(f\"Accuracy for seqlen {seqlen}:\", github_accs[seqlen])\n",
    "    print()"
   ]
  },
  {
   "cell_type": "code",
   "execution_count": null,
   "id": "8f373c8c",
   "metadata": {},
   "outputs": [],
   "source": []
  }
 ],
 "metadata": {
  "kernelspec": {
   "display_name": "peft_mia",
   "language": "python",
   "name": "python3"
  },
  "language_info": {
   "codemirror_mode": {
    "name": "ipython",
    "version": 3
   },
   "file_extension": ".py",
   "mimetype": "text/x-python",
   "name": "python",
   "nbconvert_exporter": "python",
   "pygments_lexer": "ipython3",
   "version": "3.10.16"
  }
 },
 "nbformat": 4,
 "nbformat_minor": 5
}
