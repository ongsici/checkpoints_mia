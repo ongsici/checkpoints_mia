{
 "cells": [
  {
   "cell_type": "code",
   "execution_count": 1,
   "id": "5b87a114",
   "metadata": {},
   "outputs": [
    {
     "name": "stderr",
     "output_type": "stream",
     "text": [
      "/Users/ongsici/anaconda3/envs/peft_mia/lib/python3.10/site-packages/tqdm/auto.py:21: TqdmWarning: IProgress not found. Please update jupyter and ipywidgets. See https://ipywidgets.readthedocs.io/en/stable/user_install.html\n",
      "  from .autonotebook import tqdm as notebook_tqdm\n"
     ]
    }
   ],
   "source": [
    "import os\n",
    "import pickle\n",
    "import pandas as pd\n",
    "import json\n",
    "from bag_of_words import bag_of_words_basic\n",
    "from greedy_selection import greedy_selection_basic\n",
    "from date_detection import date_detection_basic\n",
    "from contextlib import redirect_stdout"
   ]
  },
  {
   "cell_type": "markdown",
   "id": "62b1fcb2",
   "metadata": {},
   "source": [
    "## Pile-RS-Truncated"
   ]
  },
  {
   "cell_type": "code",
   "execution_count": null,
   "id": "67221aa4",
   "metadata": {},
   "outputs": [],
   "source": [
    "def run_blind_mia_pile(pile_subset_list, seq_lens, attack, dataset_type, results):\n",
    "    for pile_subset in pile_subset_list:\n",
    "        base_dataset_dir = f\"../../data/pile/pile_rs_truncated/{pile_subset}\"\n",
    "        output_dir = f\"bow_results/{pile_subset}\" if attack == \"bow\" else f\"greedy_results/{pile_subset}\" if attack == \"greedy\" else f\"date_results/{pile_subset}\"\n",
    "        os.makedirs(output_dir, exist_ok=True)\n",
    "        results[attack][pile_subset] = {}\n",
    "\n",
    "        for seq_len in seq_lens:\n",
    "            results[attack][pile_subset][seq_len] = {}\n",
    "            dataset_path = f\"{base_dataset_dir}/pile_{dataset_type}_{pile_subset}_seqlen{seq_len}.pkl\"\n",
    "            output_path = f\"pile/{output_dir}/pile_{dataset_type}_{pile_subset}_seqlen{seq_len}_results.txt\"\n",
    "            \n",
    "            if not os.path.exists(dataset_path):\n",
    "                print(f\"Skipping {dataset_path} (not found)\")\n",
    "                continue\n",
    "            \n",
    "            with open(dataset_path, \"rb\") as f:\n",
    "                df = pickle.load(f)\n",
    "\n",
    "            X = df['truncated_text'].astype(str).tolist()\n",
    "            y = df['label'].astype(int).tolist()\n",
    "            members = df[df['label'] == 1]['truncated_text'].astype(str).tolist()\n",
    "            nonmembers = df[df['label'] == 0]['truncated_text'].astype(str).tolist()\n",
    "\n",
    "            dataset_name = f\"pile_{dataset_type}_{pile_subset}_seqlen{seq_len}\"\n",
    "            fpr_budget = 1\n",
    "            plot_roc = False\n",
    "            hypersearch = True\n",
    "\n",
    "            with open(output_path, \"w\") as fout:\n",
    "                with redirect_stdout(fout):\n",
    "                    print(f\"Running bag-of-words for seq_len={seq_len}\")\n",
    "                    if attack == \"bow\":\n",
    "                        mean_auc, mean_auc_stdev, mean_tpr, mean_tpr_stdev = bag_of_words_basic(X, y, dataset_name, fpr_budget, plot_roc, hypersearch)\n",
    "                        results[attack][pile_subset][seq_len][\"mean_auc\"] = mean_auc\n",
    "                        results[attack][pile_subset][seq_len][\"mean_auc_stdev\"] = mean_auc_stdev\n",
    "                        results[attack][pile_subset][seq_len][\"mean_tpr\"] = mean_tpr\n",
    "                        results[attack][pile_subset][seq_len][\"mean_tpr_stdev\"] = mean_tpr_stdev\n",
    "                    elif attack == \"greedy\":\n",
    "                        mean_auc, mean_auc_stdev, mean_tpr, mean_tpr_stdev = greedy_selection_basic(member_lines=members, nonmember_lines=nonmembers, dataset_name=dataset_name, fpr_budget=fpr_budget, plot_roc=plot_roc)\n",
    "                        results[attack][pile_subset][seq_len][\"mean_auc\"] = mean_auc\n",
    "                        results[attack][pile_subset][seq_len][\"mean_auc_stdev\"] = mean_auc_stdev\n",
    "                        results[attack][pile_subset][seq_len][\"mean_tpr\"] = mean_tpr\n",
    "                        results[attack][pile_subset][seq_len][\"mean_tpr_stdev\"] = mean_tpr_stdev\n",
    "                    elif attack == \"date\":\n",
    "                        max_auc, max_tpr = date_detection_basic(X, y, dataset_name, fpr_budget, plot_roc)\n",
    "                        results[attack][pile_subset][seq_len][\"max_auc\"] = max_auc\n",
    "                        results[attack][pile_subset][seq_len][\"max_tpr\"] = max_tpr\n",
    "                    else:\n",
    "                        raise ValueError(f\"Unknown attack type: {attack}\")\n",
    "                    \n",
    "    return results\n",
    "\n"
   ]
  },
  {
   "cell_type": "code",
   "execution_count": null,
   "id": "da565c99",
   "metadata": {},
   "outputs": [],
   "source": [
    "seq_lens = [64, 128, 256, 512, 1024, 2048]\n",
    "pile_subset_list = [\"wiki\", \"pubmedc\", \"pilecc\", \"uspto\", \"github\"]\n",
    "dataset_type = \"reservoirv2\"\n"
   ]
  },
  {
   "cell_type": "code",
   "execution_count": null,
   "id": "d92c6c25",
   "metadata": {},
   "outputs": [],
   "source": [
    "## Date Detection\n",
    "results = {}\n",
    "attack = \"date\"\n",
    "results[attack] = {}\n",
    "\n",
    "results = run_blind_mia_pile(pile_subset_list, seq_lens, attack, dataset_type, results)\n",
    "\n",
    "with open(\"pile/date_results.json\", \"w\") as f:\n",
    "    json.dump(results, f, indent=4)\n"
   ]
  },
  {
   "cell_type": "code",
   "execution_count": null,
   "id": "ada28cd4",
   "metadata": {},
   "outputs": [],
   "source": [
    "## Bag-of-Words Detection\n",
    "results = {}\n",
    "attack = \"bow\"\n",
    "results[attack] = {}\n",
    "\n",
    "results = run_blind_mia_pile(pile_subset_list, seq_lens, attack, dataset_type, results)\n",
    "\n",
    "with open(\"pile/bow_results.json\", \"w\") as f:\n",
    "    json.dump(results, f, indent=4)\n"
   ]
  },
  {
   "cell_type": "code",
   "execution_count": null,
   "id": "28f1906b",
   "metadata": {},
   "outputs": [],
   "source": [
    "## Greedy Selection\n",
    "results = {}\n",
    "attack = \"greedy\"\n",
    "results[attack] = {}\n",
    "\n",
    "results = run_blind_mia_pile(pile_subset_list, seq_lens, attack, dataset_type, results)\n",
    "\n",
    "with open(\"pile/greedy_results.json\", \"w\") as f:\n",
    "    json.dump(results, f, indent=4)\n",
    "\n"
   ]
  },
  {
   "cell_type": "markdown",
   "id": "107d4437",
   "metadata": {},
   "source": [
    "## Dolma and Paloma"
   ]
  },
  {
   "cell_type": "code",
   "execution_count": null,
   "id": "487e149c",
   "metadata": {},
   "outputs": [],
   "source": [
    "def run_blind_mia_olmo(olmo_subset_list, seq_lens, attack, dataset_type, results):\n",
    "    for olmo_subset in olmo_subset_list:\n",
    "        base_dataset_dir = f\"../../data/{dataset_type}/{olmo_subset}\"\n",
    "        output_dir = f\"bow_results/{olmo_subset}\" if attack == \"bow\" else f\"greedy_results/{olmo_subset}\" if attack == \"greedy\" else f\"date_results/{olmo_subset}\"\n",
    "        os.makedirs(output_dir, exist_ok=True)\n",
    "        results[attack][olmo_subset] = {}\n",
    "\n",
    "        for seq_len in seq_lens:\n",
    "            results[attack][olmo_subset][seq_len] = {}\n",
    "            dataset_path = f\"{base_dataset_dir}/{olmo_subset}_seqlen{seq_len}.pkl\"\n",
    "            output_path = f\"{dataset_type}/{output_dir}/{olmo_subset}_seqlen{seq_len}_results.txt\"\n",
    "            \n",
    "            # Skip if dataset doesn't exist\n",
    "            if not os.path.exists(dataset_path):\n",
    "                print(f\"Skipping {dataset_path} (not found)\")\n",
    "                continue\n",
    "            \n",
    "            with open(dataset_path, \"rb\") as f:\n",
    "                df = pickle.load(f)\n",
    "\n",
    "            X = df['truncated_text'].astype(str).tolist()\n",
    "            y = df['label'].astype(int).tolist()\n",
    "            members = df[df['label'] == 1]['truncated_text'].astype(str).tolist()\n",
    "            nonmembers = df[df['label'] == 0]['truncated_text'].astype(str).tolist()\n",
    "\n",
    "            dataset_name = f\"pile_{dataset_type}_{olmo_subset}_seqlen{seq_len}\"\n",
    "            fpr_budget = 1\n",
    "            plot_roc = False\n",
    "            hypersearch = True\n",
    "\n",
    "            with open(output_path, \"w\") as fout:\n",
    "                with redirect_stdout(fout):\n",
    "                    print(f\"Running bag-of-words for seq_len={seq_len}\")\n",
    "                    if attack == \"bow\":\n",
    "                        mean_auc, mean_auc_stdev, mean_tpr, mean_tpr_stdev = bag_of_words_basic(X, y, dataset_name, fpr_budget, plot_roc, hypersearch)\n",
    "                        results[attack][olmo_subset][seq_len][\"mean_auc\"] = mean_auc\n",
    "                        results[attack][olmo_subset][seq_len][\"mean_auc_stdev\"] = mean_auc_stdev\n",
    "                        results[attack][olmo_subset][seq_len][\"mean_tpr\"] = mean_tpr\n",
    "                        results[attack][olmo_subset][seq_len][\"mean_tpr_stdev\"] = mean_tpr_stdev\n",
    "                    elif attack == \"greedy\":\n",
    "                        mean_auc, mean_auc_stdev, mean_tpr, mean_tpr_stdev = greedy_selection_basic(member_lines=members, nonmember_lines=nonmembers, dataset_name=dataset_name, fpr_budget=fpr_budget, plot_roc=plot_roc)\n",
    "                        results[attack][olmo_subset][seq_len][\"mean_auc\"] = mean_auc\n",
    "                        results[attack][olmo_subset][seq_len][\"mean_auc_stdev\"] = mean_auc_stdev\n",
    "                        results[attack][olmo_subset][seq_len][\"mean_tpr\"] = mean_tpr\n",
    "                        results[attack][olmo_subset][seq_len][\"mean_tpr_stdev\"] = mean_tpr_stdev\n",
    "                    elif attack == \"date\":\n",
    "                        max_auc, max_tpr = date_detection_basic(X, y, dataset_name, fpr_budget, plot_roc)\n",
    "                        results[attack][olmo_subset][seq_len][\"max_auc\"] = max_auc\n",
    "                        results[attack][olmo_subset][seq_len][\"max_tpr\"] = max_tpr\n",
    "                    else:\n",
    "                        raise ValueError(f\"Unknown attack type: {attack}\")\n",
    "    return results"
   ]
  },
  {
   "cell_type": "code",
   "execution_count": null,
   "id": "d37d67bc",
   "metadata": {},
   "outputs": [],
   "source": [
    "seq_lens = [64, 128, 256, 512, 1024, 2048]\n",
    "olmo_subset_list = [\"wiki\", \"stack\", \"pes2o\"]\n",
    "dataset_type = \"olmo\""
   ]
  },
  {
   "cell_type": "code",
   "execution_count": 18,
   "id": "c85b9fdc",
   "metadata": {},
   "outputs": [],
   "source": [
    "## Date Detection\n",
    "results = {}\n",
    "attack = \"date\"\n",
    "results[attack] = {}\n",
    "\n",
    "results = run_blind_mia_olmo(olmo_subset_list, seq_lens, attack, dataset_type, results)\n",
    "\n",
    "with open(\"olmo_date_results.json\", \"w\") as f:\n",
    "    json.dump(results, f, indent=4)\n"
   ]
  },
  {
   "cell_type": "code",
   "execution_count": null,
   "id": "7dd686b2",
   "metadata": {},
   "outputs": [],
   "source": [
    "## BoW Detection\n",
    "results = {}\n",
    "attack = \"bow\"\n",
    "results[attack] = {}\n",
    "\n",
    "results = run_blind_mia_olmo(olmo_subset_list, seq_lens, attack, dataset_type, results)\n",
    "\n",
    "with open(\"olmo/bow_results.json\", \"w\") as f:\n",
    "    json.dump(results, f, indent=4)\n"
   ]
  },
  {
   "cell_type": "code",
   "execution_count": null,
   "id": "dda929da",
   "metadata": {},
   "outputs": [],
   "source": [
    "## Greedy Selection\n",
    "results = {}\n",
    "attack = \"greedy\"\n",
    "results[attack] = {}\n",
    "\n",
    "results = run_blind_mia_olmo(olmo_subset_list, seq_lens, attack, dataset_type, results)\n",
    "\n",
    "with open(\"olmo/greedy_results.json\", \"w\") as f:\n",
    "    json.dump(results, f, indent=4)\n"
   ]
  }
 ],
 "metadata": {
  "kernelspec": {
   "display_name": "peft_mia",
   "language": "python",
   "name": "python3"
  },
  "language_info": {
   "codemirror_mode": {
    "name": "ipython",
    "version": 3
   },
   "file_extension": ".py",
   "mimetype": "text/x-python",
   "name": "python",
   "nbconvert_exporter": "python",
   "pygments_lexer": "ipython3",
   "version": "3.10.16"
  }
 },
 "nbformat": 4,
 "nbformat_minor": 5
}
